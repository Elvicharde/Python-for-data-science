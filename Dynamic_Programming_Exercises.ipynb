{
  "nbformat": 4,
  "nbformat_minor": 0,
  "metadata": {
    "colab": {
      "provenance": [],
      "authorship_tag": "ABX9TyMdg2y93AerSCyKZZluOYxO",
      "include_colab_link": true
    },
    "kernelspec": {
      "name": "python3",
      "display_name": "Python 3"
    },
    "language_info": {
      "name": "python"
    }
  },
  "cells": [
    {
      "cell_type": "markdown",
      "metadata": {
        "id": "view-in-github",
        "colab_type": "text"
      },
      "source": [
        "<a href=\"https://colab.research.google.com/github/Elvicharde/Python-for-data-science/blob/master/Dynamic_Programming_Exercises.ipynb\" target=\"_parent\"><img src=\"https://colab.research.google.com/assets/colab-badge.svg\" alt=\"Open In Colab\"/></a>"
      ]
    },
    {
      "cell_type": "markdown",
      "source": [
        "# This Notebook is for practicing various dynamic programming exercises. \n"
      ],
      "metadata": {
        "id": "MSqq15SB-Ujp"
      }
    },
    {
      "cell_type": "markdown",
      "source": [
        "# Problem 1: BINARY GAP\n",
        "\n",
        "A binary gap within a positive integer N is any maximal sequence of consecutive zeros that is surrounded by ones at both ends in the binary representation of N.\n",
        "\n",
        "For example, number 9 has binary representation 1001 and contains a binary gap of length 2. The number 529 has binary representation 1000010001 and contains two binary gaps: one of length 4 and one of length 3. The number 20 has binary representation 10100 and contains one binary gap of length 1. The number 15 has binary representation 1111 and has no binary gaps. The number 32 has binary representation 100000 and has no binary gaps.\n",
        "\n",
        "Write a function:\n",
        "\n",
        "def solution(N)\n",
        "\n",
        "that, given a positive integer N, returns the length of its longest binary gap. The function should return 0 if N doesn't contain a binary gap.\n",
        "\n",
        "For example, given N = 1041 the function should return 5, because N has binary representation 10000010001 and so its longest binary gap is of length 5. Given N = 32 the function should return 0, because N has binary representation '100000' and thus no binary gaps.\n",
        "\n",
        "Write an efficient algorithm for the following assumptions:\n",
        "\n",
        "N is an integer within the range [1..2,147,483,647]."
      ],
      "metadata": {
        "id": "eN4JTZJZ-spM"
      }
    },
    {
      "cell_type": "markdown",
      "source": [
        "#### Solution Algorithm\n",
        "\n",
        "1. First convert the \"N\" to a binary representation via a built-in method \n",
        "   or compute the binary representation manually using base2 division.\n",
        "\n",
        "2. Convert the binary representation to a string for easy indexing and checking.\n",
        "\n",
        "3. Loop from the start of the sequence until the first '1' is found with 0 as\n",
        "   its next neighbour.\n",
        "\n",
        "4. Once the start '1' is found, count the zeros that occur until another '1' is\n",
        "   found or the sequence finishes. \n",
        "\n",
        "5. If another '1' is found, record the count in binary_gap variable. Check for\n",
        "   similar pattern in the rest of the sequence and update binary_gap_variable \n",
        "   to a higher value if a longer pattern is found. \n",
        "\n",
        "6. Return the maximum sequence i.e binary gap."
      ],
      "metadata": {
        "id": "r2M7ke97A7zp"
      }
    },
    {
      "cell_type": "code",
      "source": [
        "def get_binary_gap(n: int) -> int:\n",
        "    \"\"\" This function takes in a positive integer 'n' and returns the \n",
        "        binary-gap in its binary sequence as defined in the problem above.\n",
        "    \"\"\"\n",
        "    binary_gap = 0    # initial value\n",
        "\n",
        "    if n in [1,2,3,4]:    # these numbers have no binary gap\n",
        "        return binary_gap\n",
        "\n",
        "    to_binary = lambda int: f'{int:08b}'   # binary converter\n",
        "    binary_sequence = to_binary(n)         # returns a string binary sequence\n",
        "\n",
        "    # looping through the sequence\n",
        "    for idx, char in enumerate(binary_sequence):\n",
        "        if char == '1':\n",
        "            # start counting for binarygap\n",
        "            id = idx\n",
        "            count = 0\n",
        "            while id < (len(binary_sequence)-1) and binary_sequence[id+1] == '0':\n",
        "                # since first 0 found in previous conditional\n",
        "                count +=1\n",
        "                id += 1\n",
        "\n",
        "                if id == len(binary_sequence)-1:\n",
        "                    count = 0    # this implies no 1 at the end of this seq\n",
        "                \n",
        "            # checking if previous count is lower or higher\n",
        "            if count > binary_gap:\n",
        "                binary_gap = count   # update binary count to the max count\n",
        "\n",
        "                           \n",
        "    return binary_gap\n",
        "\n"
      ],
      "metadata": {
        "id": "cmBWx9i1Aepr"
      },
      "execution_count": null,
      "outputs": []
    },
    {
      "cell_type": "code",
      "source": [
        "# Test with the following values from the question\n",
        "# 9, 15, 20, 32, 529, 1041  should return 2, 0, 1, 0, 4, 5\n",
        "\n",
        "for i in [9, 15, 20, 32, 529, 1041]:\n",
        "    print(f\"{i} has a binary gap of {get_binary_gap(i)}\")"
      ],
      "metadata": {
        "colab": {
          "base_uri": "https://localhost:8080/"
        },
        "id": "FgGs_DJnrsFD",
        "outputId": "49ef154b-22df-4cd8-f28f-b5cd48b736d1"
      },
      "execution_count": null,
      "outputs": [
        {
          "output_type": "stream",
          "name": "stdout",
          "text": [
            "9 has a binary gap of 2\n",
            "15 has a binary gap of 0\n",
            "20 has a binary gap of 1\n",
            "32 has a binary gap of 0\n",
            "529 has a binary gap of 4\n",
            "1041 has a binary gap of 5\n"
          ]
        }
      ]
    },
    {
      "cell_type": "code",
      "source": [],
      "metadata": {
        "id": "i2_eaHee2OIJ"
      },
      "execution_count": null,
      "outputs": []
    }
  ]
}