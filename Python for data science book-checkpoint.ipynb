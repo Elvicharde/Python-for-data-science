{
 "cells": [
  {
   "cell_type": "code",
   "execution_count": null,
   "metadata": {},
   "outputs": [],
   "source": [
    "print(\"Mark Zuckerberg's house now belongs to David and Mack !\\nCrazy, Right?\")"
   ]
  },
  {
   "cell_type": "code",
   "execution_count": null,
   "metadata": {},
   "outputs": [],
   "source": [
    "print(\"\"\" Mathematics is the way\n",
    "and everyone thinks so\\n\\n Even the brits\"\"\")"
   ]
  },
  {
   "cell_type": "code",
   "execution_count": null,
   "metadata": {
    "scrolled": true
   },
   "outputs": [],
   "source": [
    "\"Hello Mark, it's nice to meet you!\""
   ]
  },
  {
   "cell_type": "code",
   "execution_count": null,
   "metadata": {},
   "outputs": [],
   "source": []
  },
  {
   "cell_type": "markdown",
   "metadata": {},
   "source": [
    "#### Example: Printing ASCII art using the Print (\"\"\"  _string_  \"\"\") method ####"
   ]
  },
  {
   "cell_type": "code",
   "execution_count": null,
   "metadata": {},
   "outputs": [],
   "source": [
    "print(\"\"\"    \n",
    "\n",
    "                                   _        _   _                   _           _   \n",
    "              _ __ ___   ___  _ __| |_ __ _| | | | _____  _ __ ___ | |__   __ _| |_ \n",
    "             | '_ ` _ \\ / _ \\| '__| __/ _` | | | |/ / _ \\| '_ ` _ \\| '_ \\ / _` | __|\n",
    "             | | | | | | (_) | |  | || (_| | | |   < (_) | | | | | | |_) | (_| | |_ \n",
    "             |_| |_| |_|\\___/|_|   \\__\\__,_|_| |_|\\_\\___/|_| |_| |_|_.__/ \\__,_|\\__|\n",
    "\n",
    "\\t\\t\\t\\t CHOOSE YOUR DESTINY !!\n",
    "\"\"\")             "
   ]
  },
  {
   "cell_type": "code",
   "execution_count": null,
   "metadata": {},
   "outputs": [],
   "source": [
    "print(\"\"\"If you really like to eat food, then you should check out McDonalds. They have a great\n",
    "menu of foods you can choose from. Literally Anything you want.\n",
    " \\nAnything!\"\"\")"
   ]
  },
  {
   "cell_type": "code",
   "execution_count": null,
   "metadata": {},
   "outputs": [],
   "source": [
    "# This program displays name and says witty stuff\n",
    "\n",
    "First_name = input('What is your first name ?\\t')\n",
    "Last_name  = input('Last name too ?\\t')\n",
    "Age        = str(input('Your age ?\\t '))\n",
    "\n",
    "Fullname = First_name + ' ' + Last_name\n",
    "\n",
    "print('\\n\\nHello '+ Fullname + '\\n\\n')\n",
    "print('It must be nice to be '+ Age + '; I am a computer, I have no age!')"
   ]
  },
  {
   "cell_type": "code",
   "execution_count": null,
   "metadata": {},
   "outputs": [],
   "source": [
    "x = 5\n",
    "complex(x)"
   ]
  },
  {
   "cell_type": "code",
   "execution_count": null,
   "metadata": {},
   "outputs": [],
   "source": [
    "'Fire' + ' cracker !'"
   ]
  },
  {
   "cell_type": "code",
   "execution_count": null,
   "metadata": {},
   "outputs": [],
   "source": [
    "x = 5\n",
    "y = 10\n",
    "\n",
    "x + y\n"
   ]
  },
  {
   "cell_type": "code",
   "execution_count": null,
   "metadata": {},
   "outputs": [],
   "source": [
    "type(Fullname)"
   ]
  },
  {
   "cell_type": "code",
   "execution_count": null,
   "metadata": {},
   "outputs": [],
   "source": [
    "x = 5\n",
    "print('being ' + str(x))"
   ]
  },
  {
   "cell_type": "code",
   "execution_count": null,
   "metadata": {},
   "outputs": [],
   "source": [
    "First_name = input('What is your first name ?\\t:')"
   ]
  },
  {
   "cell_type": "code",
   "execution_count": null,
   "metadata": {},
   "outputs": [],
   "source": [
    "x"
   ]
  },
  {
   "cell_type": "code",
   "execution_count": null,
   "metadata": {},
   "outputs": [],
   "source": [
    "x = str(input('Age?\\t'))"
   ]
  },
  {
   "cell_type": "code",
   "execution_count": null,
   "metadata": {},
   "outputs": [],
   "source": [
    "x"
   ]
  },
  {
   "cell_type": "code",
   "execution_count": null,
   "metadata": {},
   "outputs": [],
   "source": []
  },
  {
   "cell_type": "code",
   "execution_count": null,
   "metadata": {},
   "outputs": [],
   "source": [
    "# Tuples can be declared in two ways \n",
    "my_Tuple = (1,2,3,4,5) # way 1\n",
    "print(my_Tuple)\n",
    "type(my_Tuple)"
   ]
  },
  {
   "cell_type": "code",
   "execution_count": null,
   "metadata": {},
   "outputs": [],
   "source": [
    "my_Tuple2 = 1,2,3,4,5 # way 2\n",
    "print(my_Tuple2)\n",
    "type(my_Tuple2)"
   ]
  },
  {
   "cell_type": "code",
   "execution_count": null,
   "metadata": {},
   "outputs": [],
   "source": [
    "# Comparing Lists with tuples\n",
    "\n",
    "my_List = ['Men', 'Index', 1,2,3]\n",
    "my_tuple = ('Men', 'Index', 1,2,3)\n",
    "\n",
    "a = my_tuple.__sizeof__() # get tuple size\n",
    "b = my_List.__sizeof__()  # get list size\n",
    "\n",
    "print('size of list is {}, and size of tuple is {}.'.format(b,a))\n"
   ]
  },
  {
   "cell_type": "code",
   "execution_count": null,
   "metadata": {},
   "outputs": [],
   "source": [
    "A = my_tuple[0] \n",
    "B = my_tuple[1]\n",
    "print ('The {} of {} is 0.'.format(B,A))"
   ]
  },
  {
   "cell_type": "code",
   "execution_count": null,
   "metadata": {},
   "outputs": [],
   "source": [
    "# tuple packing and unpacking\n",
    "Tuple = 'Daniel', 'Dean', 'James'   # Tuple packing\n",
    "Name1, Name2, Name3 = Tuple       # tuple unpacking\n",
    "\n",
    "print(Name1)\n",
    "print(Name2)\n",
    "print(Name3)"
   ]
  },
  {
   "cell_type": "code",
   "execution_count": null,
   "metadata": {},
   "outputs": [],
   "source": [
    "# collecting data with tuples\n",
    "User_Info = (('Name','James'),('Age',22)) #Nested tuple\n",
    "A,B = User_Info[0]\n",
    "C,D = User_Info[1]\n",
    "print(A, ': ',B)\n",
    "print(C, ': ',D) \n"
   ]
  },
  {
   "cell_type": "code",
   "execution_count": null,
   "metadata": {},
   "outputs": [],
   "source": [
    "# Dictionary declaration \n",
    "my_Dict = {'Key1': 'Movies', 'Key2': ['Iron Man', 'Avengers']}\t"
   ]
  },
  {
   "cell_type": "code",
   "execution_count": null,
   "metadata": {},
   "outputs": [],
   "source": [
    "my_Dict['Key1']"
   ]
  },
  {
   "cell_type": "code",
   "execution_count": null,
   "metadata": {},
   "outputs": [],
   "source": [
    "# Dictionary declaration \n",
    "my_Dict = {(1,): 'Movie', (2,): ['Iron Man', 'Avengers']}\t\n",
    "print(my_Dict)\n",
    "print(type(my_Dict))\n"
   ]
  },
  {
   "cell_type": "code",
   "execution_count": null,
   "metadata": {},
   "outputs": [],
   "source": [
    "my_Dict[1,]"
   ]
  },
  {
   "cell_type": "code",
   "execution_count": null,
   "metadata": {},
   "outputs": [],
   "source": [
    "A = my_Dict['Key1']\t\n",
    "B = my_Dict['Key2']\n",
    "\n",
    "print(A,': ',B)\n",
    "\n"
   ]
  },
  {
   "cell_type": "code",
   "execution_count": null,
   "metadata": {},
   "outputs": [],
   "source": [
    "Acct_Dict = {'Name':'Customer1','Account type'\n",
    "                                            :{'type1': 'Savings','type2': 'Current'}}\n",
    "\n",
    "Acct_Dict"
   ]
  },
  {
   "cell_type": "code",
   "execution_count": null,
   "metadata": {},
   "outputs": [],
   "source": [
    "print('You have a '+ Acct_Dict['Account type']['type2']+ ' account')"
   ]
  },
  {
   "cell_type": "code",
   "execution_count": null,
   "metadata": {},
   "outputs": [],
   "source": [
    "Acct_Dict['Account type'].keys()"
   ]
  },
  {
   "cell_type": "code",
   "execution_count": null,
   "metadata": {},
   "outputs": [],
   "source": [
    "Acct_Dict.values()"
   ]
  },
  {
   "cell_type": "code",
   "execution_count": null,
   "metadata": {},
   "outputs": [],
   "source": [
    "# Checking possible methods with datatypes\n",
    "# Let us declare some datatypes first and check their methods\n",
    "\n",
    "String = 'Bob'; integer = 100; Float = 25.3\n",
    "\n",
    "List = ['Man']; Tuple = 5,    # To declare a single tuple \n",
    "                              # put a comma after the single value\n",
    "    \n",
    "Dictionary = dict([('Name','Max')]) # Dictionaries can be declared \n",
    "                                    # using dict() as well.\n",
    "    \n",
    "A = dir(String); B = dir(integer); C = dir(Float)\n",
    "\n",
    "D = dir(List); E = dir(Tuple) ; F = dir(Dictionary)\n",
    "\n",
    "print (''' Here are the methods possible with each type\n",
    "\n",
    "                                                     Strings   \n",
    " \n",
    " {}            \n",
    "\n",
    "\n",
    "\n",
    "                                                     Integers   \n",
    " \n",
    " {}            \n",
    " \n",
    " \n",
    " \n",
    "                                                      Floats   \n",
    " \n",
    " {}            \n",
    " \n",
    " \n",
    " \n",
    " \n",
    "                                                      Lists   \n",
    " \n",
    " {}            \n",
    " \n",
    " \n",
    " \n",
    "                                                      Tuples   \n",
    " \n",
    " {}            \n",
    " \n",
    " \n",
    " \n",
    " \n",
    "                                                      Dictionaries  \n",
    " \n",
    " {}            \n",
    "\n",
    "\n",
    "\n",
    "'''.format(A,B,C,D,E,F))"
   ]
  },
  {
   "cell_type": "code",
   "execution_count": null,
   "metadata": {},
   "outputs": [],
   "source": [
    "A = True \n",
    "type(A)\n"
   ]
  },
  {
   "cell_type": "code",
   "execution_count": null,
   "metadata": {},
   "outputs": [],
   "source": [
    "int(A)"
   ]
  },
  {
   "cell_type": "code",
   "execution_count": null,
   "metadata": {},
   "outputs": [],
   "source": [
    "print(5 < 10); print(3>4); print('Bob'=='Mary'); \n",
    "print(True == 1); print(False == 0); print(True != 1)"
   ]
  },
  {
   "cell_type": "code",
   "execution_count": null,
   "metadata": {},
   "outputs": [],
   "source": [
    "print('Max'in 'Max payne'); print(2 in [1,3,4,5]); print(True in [1,0])"
   ]
  },
  {
   "cell_type": "code",
   "execution_count": null,
   "metadata": {},
   "outputs": [],
   "source": [
    "print(True & True);print(True and False);print(False and False) \n",
    "print(False and True); print('foo' in 'foobar' and 1<2)"
   ]
  },
  {
   "cell_type": "code",
   "execution_count": null,
   "metadata": {},
   "outputs": [],
   "source": [
    "print (True | True); print (True or False); print (False or False)\n",
    "print (False or True); print(('foo' in 'foobar') | 1<2)"
   ]
  },
  {
   "cell_type": "code",
   "execution_count": null,
   "metadata": {},
   "outputs": [],
   "source": [
    "size = eval(input('Please enter dictionary key size: '))\n",
    "dico = dict()\n",
    "for i in range (1,size+1):\n",
    "    dico[i] = i*i\n",
    "    print('iteration ',i,' : ',dico)"
   ]
  },
  {
   "cell_type": "markdown",
   "metadata": {},
   "source": [
    "### Conditionals and loops ###"
   ]
  },
  {
   "cell_type": "code",
   "execution_count": null,
   "metadata": {},
   "outputs": [],
   "source": [
    "# Grant access if user password is correct\n",
    "password_pool = ('Smith_crete','Alex@456','CEO4life')\n",
    "user_password = input('Please enter your password: \\t')\n",
    "\n",
    "# Now the condition\n",
    "if user_password in password_pool :\n",
    "    print('\\nAcess granted!')"
   ]
  },
  {
   "cell_type": "code",
   "execution_count": null,
   "metadata": {},
   "outputs": [],
   "source": [
    "# Movie rent-overdue price\n",
    "\n",
    "price1 = 5              # ($ 5 for every day past due within first 3 days')\n",
    "price2 = 7              # ($ 7 for every day past due after first 3 days')\n",
    "days_past_due = eval(input('How many days past due:\\t'))\n",
    "\n",
    "# If statement\n",
    "\n",
    "if days_past_due <= 3: \n",
    "    print('\\nYou owe $',(days_past_due*price1))\n",
    "if days_past_due > 3:\n",
    "    print('\\nYou owe $',(3*price1 + (days_past_due - 3)*price2))"
   ]
  },
  {
   "cell_type": "code",
   "execution_count": null,
   "metadata": {},
   "outputs": [],
   "source": []
  },
  {
   "cell_type": "code",
   "execution_count": null,
   "metadata": {},
   "outputs": [],
   "source": [
    "password_pool = ('Smith_crete','Alex@456','CEO4life')\n",
    "user_password = input ('Please enter your password: \\t')\n",
    "\n",
    "    # Now the IF-ELSE conditions\n",
    "if user_password in password_pool:\n",
    "    print('\\n Access granted!')\n",
    "else:\n",
    "    print('\\n Access Denied! Calling Security …')\n"
   ]
  },
  {
   "cell_type": "code",
   "execution_count": null,
   "metadata": {},
   "outputs": [],
   "source": [
    "password_pool = ('Smith_crete','Alex@456','CEO4life')\n",
    "user_password = input ('Please enter your password: \\t')\n",
    "\n",
    "    # Now the ELIF conditions\n",
    "    \n",
    "if user_password in password_pool and user_password == 'Smith_crete':\n",
    "    print('\\nAccess granted! Welcome Dr.Smith')\n",
    "    \n",
    "elif user_password in password_pool and user_password == 'Alex@456':\n",
    "    print('\\nAccess granted! Welcome Mr. Alexander')\n",
    "\n",
    "elif user_password in password_pool and user_password == 'CEO4life':\n",
    "    print('\\nAccess granted! Welcome Mr. CEO')\n",
    "    \n",
    "else:\n",
    "    print('\\nAccess Denied! Calling Security …')\n"
   ]
  },
  {
   "cell_type": "markdown",
   "metadata": {},
   "source": [
    "#### Illustrating LOOPS ####"
   ]
  },
  {
   "cell_type": "code",
   "execution_count": null,
   "metadata": {},
   "outputs": [],
   "source": [
    "# while loop to print output 5 times\n",
    "\n",
    "i = 1       # counter\n",
    "\n",
    "while i < 6:\n",
    "    print(i,': I love python')\n",
    "    i = i+1\n",
    "else:\n",
    "    print('\\nThe program has completed')\n"
   ]
  },
  {
   "cell_type": "code",
   "execution_count": null,
   "metadata": {},
   "outputs": [],
   "source": [
    "# This program prints 1-10 but skips 8\n",
    "\n",
    "i = 0\n",
    "\n",
    "while i<=9:\n",
    "    i = i+1\n",
    "    if i == 8:\n",
    "        continue\n",
    "    print(i)    \n",
    "    \n",
    "else: print('\\nThe program has ended')\n",
    "    \n",
    "        "
   ]
  },
  {
   "cell_type": "code",
   "execution_count": null,
   "metadata": {},
   "outputs": [],
   "source": [
    "# This program is meant to print 1-10 and skip 8\n",
    "# It runs indefinitely until a break\n",
    "\n",
    "i = 1\n",
    "j = 1 \n",
    "\n",
    "while i<=10:\n",
    "    print ('Iteration ',j)\n",
    "    \n",
    "    if j >= 15:\n",
    "        break           # loop escape sequence\n",
    "    j = j+1\n",
    "    \n",
    "    if i == 8:\n",
    "        continue       # indefinite loop\n",
    "    print('\\tvalue =',i)    \n",
    "    i = i+1\n",
    "    \n",
    "else: print('\\nThe program has ended')\n",
    "    "
   ]
  },
  {
   "cell_type": "code",
   "execution_count": null,
   "metadata": {},
   "outputs": [],
   "source": [
    "i = 1\n",
    "for i in range(5):\n",
    "    print(i)"
   ]
  },
  {
   "cell_type": "code",
   "execution_count": null,
   "metadata": {},
   "outputs": [],
   "source": [
    "Indefinite_list = [0]\n",
    "for x in Indefinite_list:\n",
    "    Indefinite_list.append(0)\n",
    "    print(x)"
   ]
  },
  {
   "cell_type": "code",
   "execution_count": 6,
   "metadata": {},
   "outputs": [
    {
     "name": "stdout",
     "output_type": "stream",
     "text": [
      "Please enter a sequence of numbers using [ ] :\t[1,2,3,4,5]\n",
      "\n",
      "Value 1 is :  1\n",
      "\n",
      "Value 2 is :  2\n",
      "\n",
      "Value 3 is :  3\n",
      "\n",
      "Value 4 is :  4\n",
      "\n",
      "Value 5 is :  5\n"
     ]
    }
   ],
   "source": [
    "# This program accepts a list and prints its elements numbers\n",
    "\n",
    "List = eval(input('Please enter a sequence of numbers using [ ] :\\t')) \n",
    "\n",
    "for value in List:\n",
    "    print('\\nValue',value,'is : ',List[value-1])"
   ]
  },
  {
   "cell_type": "code",
   "execution_count": 38,
   "metadata": {},
   "outputs": [
    {
     "name": "stdout",
     "output_type": "stream",
     "text": [
      "[0, 1, 2, 3, 4, 5, 6, 7, 8, 9]\n"
     ]
    }
   ],
   "source": [
    "List = list(range(0,10))\n",
    "print(List)"
   ]
  },
  {
   "cell_type": "markdown",
   "metadata": {},
   "source": [
    "#### List comprehension ####"
   ]
  },
  {
   "cell_type": "code",
   "execution_count": 30,
   "metadata": {},
   "outputs": [
    {
     "data": {
      "text/plain": [
       "[0, 1, 2, 3, 4, 5, 6, 7, 8, 81]"
      ]
     },
     "execution_count": 30,
     "metadata": {},
     "output_type": "execute_result"
    }
   ],
   "source": [
    "trial_List = list(range(10))\n",
    "[(trial_List[item]) if item != 9 else (trial_List[item])**2 for item in trial_List]"
   ]
  },
  {
   "cell_type": "code",
   "execution_count": 50,
   "metadata": {},
   "outputs": [
    {
     "name": "stdout",
     "output_type": "stream",
     "text": [
      "['Mat', 'Tri', 'Cat', 'Jee', 'Man']\n"
     ]
    }
   ],
   "source": [
    "# Grab first three letters of strings\n",
    "\n",
    "List = ['Matrix','Trilogy',1,3.4,'Cattle']\n",
    "List.extend(['Jeep', 'Man', 'Go'])\n",
    "\n",
    "# grab loop \n",
    "\n",
    "new_List = [things[:3] for things in List if type(things)== str and len(things)>=3]\n",
    "print(new_List)"
   ]
  },
  {
   "cell_type": "code",
   "execution_count": null,
   "metadata": {},
   "outputs": [],
   "source": []
  },
  {
   "cell_type": "code",
   "execution_count": 75,
   "metadata": {},
   "outputs": [
    {
     "name": "stdout",
     "output_type": "stream",
     "text": [
      "Please enter number of list items: 10\n",
      "\n",
      "  Here is your custom list\n",
      "\n",
      " [1, 1.0, 9, 2.0, 25, 3.0, 49, 4.0, 81, 5.0]\n"
     ]
    }
   ],
   "source": [
    "# Create user defined list\n",
    "\n",
    "nitems = eval(input('Please enter number of list items: '))     # accepting inputs\n",
    "    \n",
    "new_list  = [x**2 if x%2 != 0 else x/2 for x in range(1,nitems+1)]\n",
    "\n",
    "print('\\n  Here is your custom list\\n\\n',new_list)\n"
   ]
  },
  {
   "cell_type": "markdown",
   "metadata": {},
   "source": [
    "### Creating Functions###"
   ]
  },
  {
   "cell_type": "code",
   "execution_count": 87,
   "metadata": {},
   "outputs": [],
   "source": [
    "def greet(name):\n",
    "    \"\"\"\n",
    "    This program greets\n",
    "    \n",
    "    \"\"\"  \n",
    "    print('Hello ',name)"
   ]
  },
  {
   "cell_type": "code",
   "execution_count": 86,
   "metadata": {},
   "outputs": [
    {
     "name": "stdout",
     "output_type": "stream",
     "text": [
      "Hello  David\n"
     ]
    }
   ],
   "source": [
    "greet('David')"
   ]
  },
  {
   "cell_type": "code",
   "execution_count": null,
   "metadata": {},
   "outputs": [],
   "source": []
  },
  {
   "cell_type": "code",
   "execution_count": 91,
   "metadata": {},
   "outputs": [],
   "source": [
    "# function that creates a user defined list\n",
    "\n",
    "def custom_list(nitems):\n",
    "    \n",
    "    \"\"\"\n",
    "    This function accepts a numeric value and creates a list.\n",
    "    The list contains squares of odd numbers within the range\n",
    "    of 1 and user input, as well as, half values for the even \n",
    "    numbers in that range.\n",
    "    \n",
    "    syntax: custom_list(numeric value)\n",
    "        \n",
    "    \"\"\"\n",
    "        \n",
    "    if nitems > 0:              # This ensures user compliance\n",
    "        \n",
    "        new_list  = [x**2 if x%2 != 0 else x/2 for x in range(1,nitems+1)]\n",
    "        \n",
    "    else: print('Enter a valid number !')   # in case of a fault.\n",
    "    \n",
    "    print('\\n Here is your custom list\\n\\n',new_list)  # This displays the list\n",
    "    "
   ]
  },
  {
   "cell_type": "code",
   "execution_count": 92,
   "metadata": {},
   "outputs": [
    {
     "name": "stdout",
     "output_type": "stream",
     "text": [
      "\n",
      " Here is your custom list\n",
      "\n",
      " [1, 1.0, 9, 2.0, 25]\n"
     ]
    }
   ],
   "source": [
    "custom_list(5)"
   ]
  },
  {
   "cell_type": "code",
   "execution_count": null,
   "metadata": {},
   "outputs": [],
   "source": []
  },
  {
   "cell_type": "code",
   "execution_count": 96,
   "metadata": {},
   "outputs": [],
   "source": [
    "# function that creates a user defined list and returns a value\n",
    "\n",
    "def custom_list(nitems):\n",
    "    \n",
    "    \"\"\"\n",
    "    This function accepts a numeric value and returns a list.\n",
    "    The list contains squares of odd numbers within the range\n",
    "    of 1 and user input, as well as, half values for the even \n",
    "    numbers in that range.\n",
    "\n",
    "    \n",
    "    syntax: List_name = custom_list(numeric value)\n",
    "        \n",
    "    \"\"\"\n",
    "        \n",
    "    if nitems > 0:              # This ensures user compliance\n",
    "        \n",
    "        new_list  = [x**2 if x%2 != 0 else x/2 for x in range(1,nitems+1)]\n",
    "        \n",
    "    else: print('Enter a valid number !')   # in case of a fault.\n",
    "    \n",
    "    return new_list\n",
    "    "
   ]
  },
  {
   "cell_type": "code",
   "execution_count": 97,
   "metadata": {},
   "outputs": [
    {
     "data": {
      "text/plain": [
       "[1, 1.0, 9, 2.0, 25, 3.0, 49, 4.0, 81, 5.0]"
      ]
     },
     "execution_count": 97,
     "metadata": {},
     "output_type": "execute_result"
    }
   ],
   "source": [
    "List = custom_list(10)\n",
    "List"
   ]
  },
  {
   "cell_type": "code",
   "execution_count": 104,
   "metadata": {},
   "outputs": [
    {
     "data": {
      "text/plain": [
       "['1', '2', '3', '4', '5', '6']"
      ]
     },
     "execution_count": 104,
     "metadata": {},
     "output_type": "execute_result"
    }
   ],
   "source": [
    "str = '123456ABC'  # Only digit in this string\n",
    "A = [x for x in str if x.isdigit()]\n",
    "A"
   ]
  },
  {
   "cell_type": "code",
   "execution_count": 9,
   "metadata": {},
   "outputs": [
    {
     "data": {
      "text/plain": [
       "100"
      ]
     },
     "execution_count": 9,
     "metadata": {},
     "output_type": "execute_result"
    }
   ],
   "source": [
    "def square_value (number): return number**2\n",
    "square_value(10)"
   ]
  },
  {
   "cell_type": "code",
   "execution_count": 10,
   "metadata": {},
   "outputs": [
    {
     "data": {
      "text/plain": [
       "100"
      ]
     },
     "execution_count": 10,
     "metadata": {},
     "output_type": "execute_result"
    }
   ],
   "source": [
    "square = lambda number:number**2\n",
    "square(10)"
   ]
  },
  {
   "cell_type": "code",
   "execution_count": 11,
   "metadata": {},
   "outputs": [
    {
     "data": {
      "text/plain": [
       "[1, 4, 9, 16, 25, 36, 49, 64, 81, 100]"
      ]
     },
     "execution_count": 11,
     "metadata": {},
     "output_type": "execute_result"
    }
   ],
   "source": [
    "# This program squares all the elements in a list\n",
    "List = list(range(1,11))\n",
    "new_list = list(map(square,List))  # we used the lambda expression 'square'\n",
    "new_list"
   ]
  },
  {
   "cell_type": "code",
   "execution_count": 12,
   "metadata": {},
   "outputs": [
    {
     "data": {
      "text/plain": [
       "[4, 16, 36, 64, 100]"
      ]
     },
     "execution_count": 12,
     "metadata": {},
     "output_type": "execute_result"
    }
   ],
   "source": [
    "# Extracting even numbers\n",
    "\n",
    "# even number identifier\n",
    "criteria = lambda value:value%2==0  \n",
    "\n",
    "# using the new_list from example 52\n",
    "even_list = list(filter(criteria,new_list)) \n",
    "even_list"
   ]
  },
  {
   "cell_type": "code",
   "execution_count": null,
   "metadata": {},
   "outputs": [],
   "source": []
  },
  {
   "cell_type": "code",
   "execution_count": null,
   "metadata": {},
   "outputs": [],
   "source": []
  },
  {
   "cell_type": "markdown",
   "metadata": {},
   "source": [
    "## NumPy Section ##"
   ]
  },
  {
   "cell_type": "code",
   "execution_count": 47,
   "metadata": {},
   "outputs": [],
   "source": [
    "# Allowing jupyter output all results per cell.\n",
    "from IPython.core.interactiveshell import InteractiveShell\n",
    "InteractiveShell.ast_node_interactivity = \"all\""
   ]
  },
  {
   "cell_type": "code",
   "execution_count": null,
   "metadata": {},
   "outputs": [],
   "source": []
  },
  {
   "cell_type": "code",
   "execution_count": 54,
   "metadata": {},
   "outputs": [
    {
     "data": {
      "text/plain": [
       "[1, 2, 3, 4, 5]"
      ]
     },
     "execution_count": 54,
     "metadata": {},
     "output_type": "execute_result"
    },
    {
     "data": {
      "text/plain": [
       "[1, 2, 3, 4, 5, 6]"
      ]
     },
     "execution_count": 54,
     "metadata": {},
     "output_type": "execute_result"
    }
   ],
   "source": [
    "Int_list = [1,2,3,4,5]\n",
    "Int_list\n",
    "Int_list.append(6)\n",
    "Int_list"
   ]
  },
  {
   "cell_type": "code",
   "execution_count": 6,
   "metadata": {},
   "outputs": [],
   "source": [
    "import numpy as np\n",
    "arr = np.array(Int_list)"
   ]
  },
  {
   "cell_type": "code",
   "execution_count": 44,
   "metadata": {},
   "outputs": [
    {
     "data": {
      "text/plain": [
       "1"
      ]
     },
     "execution_count": 44,
     "metadata": {},
     "output_type": "execute_result"
    }
   ],
   "source": [
    "arr.ndim"
   ]
  },
  {
   "cell_type": "code",
   "execution_count": 32,
   "metadata": {},
   "outputs": [],
   "source": [
    "x =[even_list,Int_list]"
   ]
  },
  {
   "cell_type": "code",
   "execution_count": 33,
   "metadata": {},
   "outputs": [
    {
     "data": {
      "text/plain": [
       "[[4, 16, 36, 64, 100], [1, 2, 3, 4, 5]]"
      ]
     },
     "execution_count": 33,
     "metadata": {},
     "output_type": "execute_result"
    }
   ],
   "source": [
    "x"
   ]
  },
  {
   "cell_type": "code",
   "execution_count": 43,
   "metadata": {},
   "outputs": [
    {
     "data": {
      "text/plain": [
       "2"
      ]
     },
     "execution_count": 43,
     "metadata": {},
     "output_type": "execute_result"
    }
   ],
   "source": [
    "mat = np.array(x)\n",
    "mat.shape = (5,2)\n",
    "mat.ndim"
   ]
  },
  {
   "cell_type": "code",
   "execution_count": 59,
   "metadata": {},
   "outputs": [
    {
     "name": "stdout",
     "output_type": "stream",
     "text": [
      "Resulting matrix:\n",
      "\n",
      " [[4 5 6]\n",
      " [1 2 3]] \n",
      "\n",
      "Dimensions: 2 \n",
      "shape (rows,columns): (2, 3)\n"
     ]
    }
   ],
   "source": [
    "# This is a matrix\n",
    "\n",
    "x = [1,2,3]\n",
    "y = [4,5,6]\n",
    "\n",
    "my_list = [y,x]  # nested list\n",
    "\n",
    "my_matrix = np.array(my_list)  # array\n",
    "\n",
    "A = my_matrix.ndim\n",
    "B = my_matrix.shape \n",
    "\n",
    "# Printing \n",
    "print('Resulting matrix:\\n\\n',my_matrix,'\\n\\nDimensions:',A,\n",
    "'\\nshape (rows,columns):',B)"
   ]
  },
  {
   "cell_type": "code",
   "execution_count": 52,
   "metadata": {},
   "outputs": [
    {
     "name": "stdout",
     "output_type": "stream",
     "text": [
      "[[4 5 6]\n",
      " [1 2 3]]\n"
     ]
    }
   ],
   "source": [
    "print(array)"
   ]
  },
  {
   "cell_type": "code",
   "execution_count": 62,
   "metadata": {},
   "outputs": [
    {
     "data": {
      "text/plain": [
       "array([[4, 1],\n",
       "       [5, 2],\n",
       "       [6, 3]])"
      ]
     },
     "execution_count": 62,
     "metadata": {},
     "output_type": "execute_result"
    }
   ],
   "source": [
    "my_matrix.transpose()"
   ]
  },
  {
   "cell_type": "code",
   "execution_count": 63,
   "metadata": {},
   "outputs": [
    {
     "data": {
      "text/plain": [
       "array([[4, 1],\n",
       "       [5, 2],\n",
       "       [6, 3]])"
      ]
     },
     "execution_count": 63,
     "metadata": {},
     "output_type": "execute_result"
    }
   ],
   "source": [
    "t_matrix = my_matrix.transpose()\n",
    "t_matrix\n"
   ]
  },
  {
   "cell_type": "code",
   "execution_count": 85,
   "metadata": {},
   "outputs": [
    {
     "data": {
      "text/plain": [
       "array([0, 2, 4, 6, 8])"
      ]
     },
     "execution_count": 85,
     "metadata": {},
     "output_type": "execute_result"
    }
   ],
   "source": [
    "np.arange(0,10,2)"
   ]
  },
  {
   "cell_type": "code",
   "execution_count": 90,
   "metadata": {},
   "outputs": [
    {
     "data": {
      "text/plain": [
       "array([[1., 1.],\n",
       "       [1., 1.],\n",
       "       [1., 1.],\n",
       "       [1., 1.],\n",
       "       [1., 1.]])"
      ]
     },
     "execution_count": 90,
     "metadata": {},
     "output_type": "execute_result"
    }
   ],
   "source": [
    "np.ones((5,2))"
   ]
  },
  {
   "cell_type": "code",
   "execution_count": 95,
   "metadata": {},
   "outputs": [
    {
     "data": {
      "text/plain": [
       "array([ 0,  2,  4,  6,  8, 10])"
      ]
     },
     "execution_count": 95,
     "metadata": {},
     "output_type": "execute_result"
    }
   ],
   "source": [
    "Even_array = np.arange(0,11,2)\n",
    "Even_array"
   ]
  },
  {
   "cell_type": "code",
   "execution_count": 96,
   "metadata": {},
   "outputs": [
    {
     "data": {
      "text/plain": [
       "array([ 0.,  2.,  4.,  6.,  8., 10.])"
      ]
     },
     "execution_count": 96,
     "metadata": {},
     "output_type": "execute_result"
    }
   ],
   "source": [
    "Even_array2 = np.arange(0,11,2, dtype='float')\n",
    "Even_array2"
   ]
  },
  {
   "cell_type": "code",
   "execution_count": 1,
   "metadata": {},
   "outputs": [],
   "source": [
    "from numpy import *"
   ]
  },
  {
   "cell_type": "code",
   "execution_count": 2,
   "metadata": {},
   "outputs": [
    {
     "data": {
      "text/plain": [
       "array([0, 1, 2, 3, 4])"
      ]
     },
     "execution_count": 2,
     "metadata": {},
     "output_type": "execute_result"
    }
   ],
   "source": [
    "arange(0,5)"
   ]
  },
  {
   "cell_type": "code",
   "execution_count": 72,
   "metadata": {},
   "outputs": [
    {
     "name": "stdout",
     "output_type": "stream",
     "text": [
      "Here are the arrays :\n",
      "\n"
     ]
    },
    {
     "data": {
      "text/plain": [
       "array([0.  , 1.25, 2.5 , 3.75, 5.  ])"
      ]
     },
     "execution_count": 72,
     "metadata": {},
     "output_type": "execute_result"
    },
    {
     "data": {
      "text/plain": [
       "array([ 1.,  2.,  3.,  4.,  5.,  6.,  7.,  8.,  9., 10., 11., 12., 13.,\n",
       "       14., 15., 16., 17., 18., 19., 20., 21., 22., 23., 24., 25., 26.,\n",
       "       27., 28., 29., 30., 31., 32., 33., 34., 35., 36., 37., 38., 39.,\n",
       "       40., 41., 42., 43., 44., 45., 46., 47., 48., 49., 50.])"
      ]
     },
     "execution_count": 72,
     "metadata": {},
     "output_type": "execute_result"
    }
   ],
   "source": [
    "# Arrays of linearly spaced points\n",
    "A = np.linspace(0,5,5) # 5 equal points between 0 & 5\n",
    "B = np.linspace (1,50) # 50 equal points between 1 & 50\n",
    "print('Here are the arrays :\\n')\n",
    "A\n",
    "B"
   ]
  },
  {
   "cell_type": "markdown",
   "metadata": {},
   "source": [
    "#### Using Zeros ####"
   ]
  },
  {
   "cell_type": "code",
   "execution_count": 66,
   "metadata": {},
   "outputs": [
    {
     "data": {
      "text/plain": [
       "array([0., 0., 0.])"
      ]
     },
     "execution_count": 66,
     "metadata": {},
     "output_type": "execute_result"
    },
    {
     "data": {
      "text/plain": [
       "array([[0., 0., 0.],\n",
       "       [0., 0., 0.]])"
      ]
     },
     "execution_count": 66,
     "metadata": {},
     "output_type": "execute_result"
    }
   ],
   "source": [
    "np.zeros(3)  # A vector of 3 elements\n",
    "np.zeros((2,3)) # A matrix of 9 elements i.e. 3 rows, 3 columns"
   ]
  },
  {
   "cell_type": "code",
   "execution_count": 68,
   "metadata": {},
   "outputs": [
    {
     "data": {
      "text/plain": [
       "array([1., 1., 1.])"
      ]
     },
     "execution_count": 68,
     "metadata": {},
     "output_type": "execute_result"
    },
    {
     "data": {
      "text/plain": [
       "array([[1., 1., 1.],\n",
       "       [1., 1., 1.]])"
      ]
     },
     "execution_count": 68,
     "metadata": {},
     "output_type": "execute_result"
    }
   ],
   "source": [
    "np.ones(3)  # A vector of 3 elements\n",
    "np.ones([2,3]) # A matrix of 9 elements i.e. 3 rows, 3 columns"
   ]
  },
  {
   "cell_type": "code",
   "execution_count": 75,
   "metadata": {},
   "outputs": [
    {
     "data": {
      "text/plain": [
       "array([[1., 0.],\n",
       "       [0., 1.]])"
      ]
     },
     "execution_count": 75,
     "metadata": {},
     "output_type": "execute_result"
    },
    {
     "data": {
      "text/plain": [
       "array([[1., 0., 0.],\n",
       "       [0., 1., 0.],\n",
       "       [0., 0., 1.]])"
      ]
     },
     "execution_count": 75,
     "metadata": {},
     "output_type": "execute_result"
    }
   ],
   "source": [
    "np.eye(2)\n",
    "np.eye(3)"
   ]
  },
  {
   "cell_type": "code",
   "execution_count": 80,
   "metadata": {},
   "outputs": [
    {
     "data": {
      "text/plain": [
       "1"
      ]
     },
     "execution_count": 80,
     "metadata": {},
     "output_type": "execute_result"
    },
    {
     "data": {
      "text/plain": [
       "array([[92,  9, 99],\n",
       "       [73, 36, 93]])"
      ]
     },
     "execution_count": 80,
     "metadata": {},
     "output_type": "execute_result"
    }
   ],
   "source": [
    "np.random.randint (1,5)    # A vector of 2 random values\n",
    "np.random.randint (1,100,(2,3))  # A matrix of 6 random values\n"
   ]
  },
  {
   "cell_type": "code",
   "execution_count": 91,
   "metadata": {},
   "outputs": [],
   "source": [
    "# creating a dice roll game with randint()\n",
    "def roll_dice():\n",
    "    \"\"\" This function displays a \n",
    "    dice roll value when called\"\"\"\n",
    "    dice1 = np.random.randint(1,7) # This allows 6 to be inclusive\n",
    "    dice2 = np.random.randint(1,7)\n",
    "    \n",
    "    if dice1 == dice2:\n",
    "        print('Roll: ',dice1,'&',dice2,'\\ndoubles !')\n",
    "        if dice1 == 1:\n",
    "            print('snake eyes!\\n')\n",
    "        \n",
    "    else:\n",
    "        print('Roll: ',dice1,'&',dice2)\n",
    "    "
   ]
  },
  {
   "cell_type": "code",
   "execution_count": 159,
   "metadata": {},
   "outputs": [
    {
     "name": "stdout",
     "output_type": "stream",
     "text": [
      "Roll:  1 & 1 \n",
      "doubles !\n",
      "snake eyes!\n",
      "\n"
     ]
    }
   ],
   "source": [
    "roll_dice()"
   ]
  },
  {
   "cell_type": "code",
   "execution_count": 160,
   "metadata": {},
   "outputs": [
    {
     "data": {
      "text/plain": [
       "array([0, 1, 2, 3, 4, 5, 6, 7, 8, 9])"
      ]
     },
     "execution_count": 160,
     "metadata": {},
     "output_type": "execute_result"
    },
    {
     "data": {
      "text/plain": [
       "array([ 1.33534821,  1.73863505,  0.1982571 , -0.47513784,  1.80118596,\n",
       "       -1.73710743, -0.24994721,  1.41695744, -0.28384007,  0.58446065])"
      ]
     },
     "execution_count": 160,
     "metadata": {},
     "output_type": "execute_result"
    }
   ],
   "source": [
    "freq = np.arange(10);values = np.random.randn(10)\n",
    "freq;values"
   ]
  },
  {
   "cell_type": "code",
   "execution_count": 165,
   "metadata": {},
   "outputs": [
    {
     "data": {
      "text/plain": [
       "array([[ 1.33534821,  1.73863505,  0.1982571 , -0.47513784,  1.80118596],\n",
       "       [-1.73710743, -0.24994721,  1.41695744, -0.28384007,  0.58446065]])"
      ]
     },
     "execution_count": 165,
     "metadata": {},
     "output_type": "execute_result"
    }
   ],
   "source": [
    "np.reshape(values,(2,5))"
   ]
  },
  {
   "cell_type": "code",
   "execution_count": 192,
   "metadata": {},
   "outputs": [
    {
     "data": {
      "text/plain": [
       "array([1.73863505, 0.1982571 ])"
      ]
     },
     "execution_count": 192,
     "metadata": {},
     "output_type": "execute_result"
    }
   ],
   "source": [
    "values[1:3]"
   ]
  },
  {
   "cell_type": "code",
   "execution_count": 185,
   "metadata": {},
   "outputs": [
    {
     "name": "stdout",
     "output_type": "stream",
     "text": [
      "Maximum value: 1.8011859577930067\n",
      "Minimum Value: -1.7371074259180737\n",
      "Item 5 is the maximum value, while item 6 is the minimum value\n"
     ]
    }
   ],
   "source": [
    "A = values.max();B = values.min();\n",
    "C = values.argmax()+1; D = values.argmin()+1\n",
    "\n",
    "print('Maximum value: {}\\nMinimum Value: {}\\\n",
    "\\nItem {} is the maximum value, while item {}\\\n",
    " is the minimum value'.format(A,B,C,D))"
   ]
  },
  {
   "cell_type": "code",
   "execution_count": 193,
   "metadata": {},
   "outputs": [
    {
     "data": {
      "text/plain": [
       "array([ 1.33534821,  1.73863505,  0.1982571 , -0.47513784,  1.80118596,\n",
       "       -1.73710743, -0.24994721,  1.41695744, -0.28384007,  0.58446065])"
      ]
     },
     "execution_count": 193,
     "metadata": {},
     "output_type": "execute_result"
    },
    {
     "data": {
      "text/plain": [
       "1.3353482110285562"
      ]
     },
     "execution_count": 193,
     "metadata": {},
     "output_type": "execute_result"
    },
    {
     "data": {
      "text/plain": [
       "0.5844606470172699"
      ]
     },
     "execution_count": 193,
     "metadata": {},
     "output_type": "execute_result"
    },
    {
     "data": {
      "text/plain": [
       "array([1.73863505, 0.1982571 ])"
      ]
     },
     "execution_count": 193,
     "metadata": {},
     "output_type": "execute_result"
    },
    {
     "data": {
      "text/plain": [
       "array([-0.47513784,  1.80118596, -1.73710743, -0.24994721,  1.41695744])"
      ]
     },
     "execution_count": 193,
     "metadata": {},
     "output_type": "execute_result"
    }
   ],
   "source": [
    "# Indexing a vector array (values)\n",
    "values\n",
    "values[0]   # grabbing 1st item\n",
    "values[-1]  # grabbing last item\n",
    "values[1:3] # grabbing 2nd & 3rd item\n",
    "values[3:8] # item 4 to 8"
   ]
  },
  {
   "cell_type": "code",
   "execution_count": null,
   "metadata": {},
   "outputs": [],
   "source": []
  },
  {
   "cell_type": "code",
   "execution_count": null,
   "metadata": {},
   "outputs": [],
   "source": []
  }
 ],
 "metadata": {
  "kernelspec": {
   "display_name": "Python 3",
   "language": "python",
   "name": "python3"
  },
  "language_info": {
   "codemirror_mode": {
    "name": "ipython",
    "version": 3
   },
   "file_extension": ".py",
   "mimetype": "text/x-python",
   "name": "python",
   "nbconvert_exporter": "python",
   "pygments_lexer": "ipython3",
   "version": "3.7.0"
  }
 },
 "nbformat": 4,
 "nbformat_minor": 2
}
