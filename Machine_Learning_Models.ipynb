{
  "cells": [
    {
      "cell_type": "markdown",
      "metadata": {
        "id": "view-in-github",
        "colab_type": "text"
      },
      "source": [
        "<a href=\"https://colab.research.google.com/github/Elvicharde/Python-for-data-science/blob/master/Machine_Learning_Models.ipynb\" target=\"_parent\"><img src=\"https://colab.research.google.com/assets/colab-badge.svg\" alt=\"Open In Colab\"/></a>"
      ]
    },
    {
      "cell_type": "markdown",
      "metadata": {
        "id": "Fn7w9PKUyTTs"
      },
      "source": [
        "## **Machine Learning for IoRT Security of Robotic Control Systems** \n",
        "\n",
        "---\n",
        "### Author: Elvicharde\n",
        "### Description: This notebook provides a detailed analysis of the application of machine learning techniques to the security of control systems of Robotic devices in an IoRT network.\n",
        "---"
      ]
    },
    {
      "cell_type": "code",
      "execution_count": null,
      "metadata": {
        "id": "NSnR_zoHK3Fm"
      },
      "outputs": [],
      "source": [
        "# Importing Relevant libraries\n",
        "import time    # this is for comparing the time it takes to train each model\n",
        "import numpy as np, pandas as pd, matplotlib.pyplot as plt    # importing the needed numerical, data, and visualization libraries\n",
        "\n",
        "# Importing necessary scikitlearn packages\n",
        "from sklearn.metrics import classification_report, confusion_matrix\n",
        "\n",
        "# importing Grid Search\n",
        "from sklearn.model_selection import GridSearchCV"
      ]
    },
    {
      "cell_type": "code",
      "execution_count": null,
      "metadata": {
        "id": "CjFISY1oyWyh"
      },
      "outputs": [],
      "source": [
        "# importing the cleaned IoT-23 Dataset\n",
        "csv_file_path = '/content/drive/MyDrive/Projects - Freelance/Colab Notebooks/Thierno Gueye/Code Files/IoT-23 Clean Dataset.csv'\n",
        "with open (csv_file_path) as csv_dataset:\n",
        "  dataset = pd.read_csv(csv_dataset)\n",
        "  dataset.drop('Unnamed: 0', axis = 1, inplace=True)"
      ]
    },
    {
      "cell_type": "code",
      "execution_count": null,
      "metadata": {
        "id": "EX5NtMuD5zRM"
      },
      "outputs": [],
      "source": [
        "# Converting all malicious data to a value of 1 and benign to 0\n",
        "malicious = ['PartOfAHorizontalPortScan', 'Okiru', 'DDoS', 'C&C', 'Attack', 'C&C-HeartBeat', 'C&C-FileDownload',\n",
        "             'C&C-Torii','FileDownload', 'C&C-HeartBeat-FileDownload', 'C&C-Mirai']\n",
        "\n",
        "dataset['label'].replace(malicious, 1, inplace=True)    # Replacing all malicious traffic with a numeric 1\n",
        "dataset['label'].replace('Benign', 0, inplace=True)     # Replacing all malicious traffic with a numeric 0"
      ]
    },
    {
      "cell_type": "code",
      "execution_count": null,
      "metadata": {
        "colab": {
          "base_uri": "https://localhost:8080/"
        },
        "id": "ywHpvI7o5kls",
        "outputId": "70a86948-da41-45ce-aab7-3c6e5a36a8b1"
      },
      "outputs": [
        {
          "output_type": "execute_result",
          "data": {
            "text/plain": [
              "1    1246865\n",
              "0     199756\n",
              "Name: label, dtype: int64"
            ]
          },
          "metadata": {},
          "execution_count": 7
        }
      ],
      "source": [
        "dataset['label'].value_counts()"
      ]
    },
    {
      "cell_type": "code",
      "execution_count": null,
      "metadata": {
        "colab": {
          "base_uri": "https://localhost:8080/"
        },
        "id": "C0Tny6ws5k0B",
        "outputId": "4a0d996b-3a91-4c0c-db24-4c978ccbf2a9"
      },
      "outputs": [
        {
          "output_type": "stream",
          "name": "stdout",
          "text": [
            "x_train: 1012634  records\n",
            " x_test: 433987 records\n",
            "y_train: 1012634  records\n",
            " y_test: 433987 records\n"
          ]
        }
      ],
      "source": [
        "# Creating the training and testing data for further use\n",
        "from sklearn.model_selection import train_test_split\n",
        "\n",
        "features = dataset.columns[dataset.columns != 'label']    # Extracting the dataset features\n",
        "x = dataset[features]\n",
        "\n",
        "y = dataset['label']    # output or target class\n",
        "\n",
        "x_train, x_test, y_train, y_test = train_test_split(x, y, test_size = 0.3, random_state=100)\n",
        "\n",
        "\n",
        "print(f\"x_train: {x_train.shape[0]}  records\\n x_test: {x_test.shape[0]} records\"\\\n",
        "f\"\\ny_train: {y_train.shape[0]}  records\\n y_test: {y_test.shape[0]} records\")"
      ]
    },
    {
      "cell_type": "markdown",
      "metadata": {
        "id": "vn_-rxemOI0u"
      },
      "source": [
        "---\n",
        "# Machine Learning Models"
      ]
    },
    {
      "cell_type": "markdown",
      "metadata": {
        "id": "f5aVe0ao8KPw"
      },
      "source": [
        "A few Helper Functions for Training, Testing, and Evaluating the Models\n"
      ]
    },
    {
      "cell_type": "code",
      "execution_count": null,
      "metadata": {
        "id": "m8lD0cs-XHHD"
      },
      "outputs": [],
      "source": [
        "# creating training and prediction functions\n",
        "def model_trainer(model, x_train, y_train):\n",
        "    \"\"\" \n",
        "    This function trains a machine learning model.\n",
        "    It accepts a three parameters: the model along with input features and target data \n",
        "    and returns the training summary.\n",
        "    \"\"\"\n",
        "    train_start = time.time()    # clocking the start of the training session  \n",
        "    model.fit(x_train, y_train)\n",
        "    train_end = time.time()    # clocking the end of the training session\n",
        "    train_duration = train_end - train_start\n",
        "    return (model, train_duration) \n",
        "\n",
        "def predictor (trained_model, x_test):\n",
        "    \"\"\" \n",
        "    This function trains a machine learning model.\n",
        "    It accepts three parameters: the model along with input features and target data. \n",
        "    It returns the training summary\n",
        "    \"\"\"\n",
        "    pred_start = time.time()    # clocking the start of the prediction session\n",
        "    predictions = trained_model.predict(x_test)\n",
        "    pred_end = time.time()    # clocking the end of the prediction session\n",
        "\n",
        "    pred_duration = pred_end - pred_start\n",
        "    return (predictions, pred_duration)     \n",
        "\n",
        "def summary(model_name = None, y_test = y_test, **kwargs):\n",
        "    \"\"\"\n",
        "    This function descibes the training and predictions. This includes the score and duration\n",
        "    \"\"\"\n",
        "    prediction = kwargs['prediction']\n",
        "    pred_duration = kwargs['pred_duration']\n",
        "    train_duration = kwargs['train_duration']\n",
        "    \n",
        "\n",
        "    # Flattening the confusion matrix for later computations\n",
        "    tn, fp, fn, tp = confusion_matrix(y_test, prediction).ravel() \n",
        "\n",
        "    # Calculating other metrics\n",
        "    accuracy = (tp + tn) / (tp + tn + fp + fn)\n",
        "    sensitivity = tp / (tp + fn)\n",
        "    specificity = tn / (tn + fp)\n",
        "    balanced_accuracy = (sensitivity + specificity) * 0.5\n",
        "    precision = tp / (tp + fp)\n",
        "    f1_score = 2 * (sensitivity * precision) / (sensitivity + precision)\n",
        "\n",
        "    print(f\"\\t Training and Predictions Complete ({model_name})\\n{'----'*15}\"\n",
        "          f\"\\n\\nTraining session       : {train_duration:.2f}\"\n",
        "          f\" seconds\\nPrediction session     : {pred_duration:.2f} seconds\\n\\n\")\n",
        "\n",
        "    print(f\"\\t\\t\\tMetrics\\n{'----'*14}\\n\\n(TP): {tp} \\t(FP): {fp} \\t(TN): {tn} \\t(FN): {fn}\\n\\n\"\n",
        "          f\"Accuracy(%)           : {accuracy * 100:.1f}\\n\"\n",
        "          f\"Sensitivity/Recall(%) : {sensitivity * 100:.1f}\\n\"\n",
        "          f\"Specificity(%)        : {specificity * 100:.1f}\\n\"\n",
        "          f\"Balanced Accuracy     : {balanced_accuracy:.2f}\\nPrecision(%)      \"\n",
        "          f\"    : {precision * 100:.1f}\\nF1-Score              : {f1_score:.2f}\")\n",
        "\n",
        "def train_test_model (model, input_train_data = x_train, input_test_data = x_test, \n",
        "                      target_train_data = y_train, target_test_data = y_test):\n",
        "    \"\"\"\n",
        "    This function runs the trainer, predictor, and model score summarizer. It returns a string of results\n",
        "    \"\"\"\n",
        "    # training\n",
        "    trained_model, train_duration = model_trainer(model, input_train_data, target_train_data)\n",
        "    # predicting\n",
        "    prediction, pred_duration = predictor(trained_model, input_test_data)\n",
        "\n",
        "    # Simple model summary\n",
        "    metrics = {'prediction':prediction, 'train_duration':train_duration, 'pred_duration':pred_duration}  \n",
        "    return metrics "
      ]
    },
    {
      "cell_type": "markdown",
      "metadata": {
        "id": "lBcDyidLM0vu"
      },
      "source": [
        " *"
      ]
    },
    {
      "cell_type": "markdown",
      "metadata": {
        "id": "gnLdr9AY5lWC"
      },
      "source": [
        "> ### Logistic Regression\n"
      ]
    },
    {
      "cell_type": "code",
      "execution_count": null,
      "metadata": {
        "id": "5saNkU6o5lga"
      },
      "outputs": [],
      "source": [
        "from sklearn.linear_model import LogisticRegression    # importing the scikitlearn module\n",
        "\n",
        "model_1 = LogisticRegression()   #instantiating the SVM classifier\n",
        "model_name1 = 'Logistic-Reg'\n",
        "\n",
        "metrics1 = train_test_model(model_1)    # running the train_test_function"
      ]
    },
    {
      "cell_type": "code",
      "execution_count": null,
      "metadata": {
        "colab": {
          "base_uri": "https://localhost:8080/"
        },
        "id": "J_uOHv6IefuY",
        "outputId": "fafcf330-fe8c-4754-f37f-5261ba0a204e"
      },
      "outputs": [
        {
          "name": "stdout",
          "output_type": "stream",
          "text": [
            "\t Training and Predictions Complete (Logistic-Reg)\n",
            "------------------------------------------------------------\n",
            "\n",
            "Training session       : 19.44 seconds\n",
            "Prediction session     : 0.08 seconds\n",
            "\n",
            "\n",
            "\t\t\tMetrics\n",
            "--------------------------------------------------------\n",
            "\n",
            "(TP): 373835 \t(FP): 60152 \t(TN): 0 \t(FN): 0\n",
            "\n",
            "Accuracy(%)           : 86.1\n",
            "Sensitivity/Recall(%) : 100.0\n",
            "Specificity(%)        : 0.0\n",
            "Balanced Accuracy     : 0.50\n",
            "Precision(%)          : 86.1\n",
            "F1-Score              : 0.93\n"
          ]
        }
      ],
      "source": [
        "summary(model_name1, y_test, **metrics1)"
      ]
    },
    {
      "cell_type": "markdown",
      "metadata": {
        "id": "Qfg_lAsq5lyv"
      },
      "source": [
        "---\n",
        "> ### KNN"
      ]
    },
    {
      "cell_type": "code",
      "execution_count": null,
      "metadata": {
        "colab": {
          "base_uri": "https://localhost:8080/",
          "height": 112
        },
        "id": "FqDr5MCgvxpc",
        "outputId": "969816c3-a8ab-46dc-d079-9e9dff19d77a"
      },
      "outputs": [
        {
          "output_type": "execute_result",
          "data": {
            "text/plain": [
              "   duration  orig_bytes  resp_bytes  missed_bytes  orig_pkts  orig_ip_bytes  \\\n",
              "0  0.017211   -0.001592   -0.000922     -0.004937  -0.002421      -0.002657   \n",
              "1 -0.006902   -0.001592   -0.000922     -0.004937  -0.002449      -0.002699   \n",
              "\n",
              "   resp_pkts  resp_ip_bytes  proto_icmp  proto_tcp  \n",
              "0  -0.001531       -0.00095   -0.051225   0.205446  \n",
              "1  -0.001531       -0.00095   -0.051225   0.205446  "
            ],
            "text/html": [
              "\n",
              "  <div id=\"df-938207fe-9ad9-4ef8-aa31-446e20195595\">\n",
              "    <div class=\"colab-df-container\">\n",
              "      <div>\n",
              "<style scoped>\n",
              "    .dataframe tbody tr th:only-of-type {\n",
              "        vertical-align: middle;\n",
              "    }\n",
              "\n",
              "    .dataframe tbody tr th {\n",
              "        vertical-align: top;\n",
              "    }\n",
              "\n",
              "    .dataframe thead th {\n",
              "        text-align: right;\n",
              "    }\n",
              "</style>\n",
              "<table border=\"1\" class=\"dataframe\">\n",
              "  <thead>\n",
              "    <tr style=\"text-align: right;\">\n",
              "      <th></th>\n",
              "      <th>duration</th>\n",
              "      <th>orig_bytes</th>\n",
              "      <th>resp_bytes</th>\n",
              "      <th>missed_bytes</th>\n",
              "      <th>orig_pkts</th>\n",
              "      <th>orig_ip_bytes</th>\n",
              "      <th>resp_pkts</th>\n",
              "      <th>resp_ip_bytes</th>\n",
              "      <th>proto_icmp</th>\n",
              "      <th>proto_tcp</th>\n",
              "    </tr>\n",
              "  </thead>\n",
              "  <tbody>\n",
              "    <tr>\n",
              "      <th>0</th>\n",
              "      <td>0.017211</td>\n",
              "      <td>-0.001592</td>\n",
              "      <td>-0.000922</td>\n",
              "      <td>-0.004937</td>\n",
              "      <td>-0.002421</td>\n",
              "      <td>-0.002657</td>\n",
              "      <td>-0.001531</td>\n",
              "      <td>-0.00095</td>\n",
              "      <td>-0.051225</td>\n",
              "      <td>0.205446</td>\n",
              "    </tr>\n",
              "    <tr>\n",
              "      <th>1</th>\n",
              "      <td>-0.006902</td>\n",
              "      <td>-0.001592</td>\n",
              "      <td>-0.000922</td>\n",
              "      <td>-0.004937</td>\n",
              "      <td>-0.002449</td>\n",
              "      <td>-0.002699</td>\n",
              "      <td>-0.001531</td>\n",
              "      <td>-0.00095</td>\n",
              "      <td>-0.051225</td>\n",
              "      <td>0.205446</td>\n",
              "    </tr>\n",
              "  </tbody>\n",
              "</table>\n",
              "</div>\n",
              "      <button class=\"colab-df-convert\" onclick=\"convertToInteractive('df-938207fe-9ad9-4ef8-aa31-446e20195595')\"\n",
              "              title=\"Convert this dataframe to an interactive table.\"\n",
              "              style=\"display:none;\">\n",
              "        \n",
              "  <svg xmlns=\"http://www.w3.org/2000/svg\" height=\"24px\"viewBox=\"0 0 24 24\"\n",
              "       width=\"24px\">\n",
              "    <path d=\"M0 0h24v24H0V0z\" fill=\"none\"/>\n",
              "    <path d=\"M18.56 5.44l.94 2.06.94-2.06 2.06-.94-2.06-.94-.94-2.06-.94 2.06-2.06.94zm-11 1L8.5 8.5l.94-2.06 2.06-.94-2.06-.94L8.5 2.5l-.94 2.06-2.06.94zm10 10l.94 2.06.94-2.06 2.06-.94-2.06-.94-.94-2.06-.94 2.06-2.06.94z\"/><path d=\"M17.41 7.96l-1.37-1.37c-.4-.4-.92-.59-1.43-.59-.52 0-1.04.2-1.43.59L10.3 9.45l-7.72 7.72c-.78.78-.78 2.05 0 2.83L4 21.41c.39.39.9.59 1.41.59.51 0 1.02-.2 1.41-.59l7.78-7.78 2.81-2.81c.8-.78.8-2.07 0-2.86zM5.41 20L4 18.59l7.72-7.72 1.47 1.35L5.41 20z\"/>\n",
              "  </svg>\n",
              "      </button>\n",
              "      \n",
              "  <style>\n",
              "    .colab-df-container {\n",
              "      display:flex;\n",
              "      flex-wrap:wrap;\n",
              "      gap: 12px;\n",
              "    }\n",
              "\n",
              "    .colab-df-convert {\n",
              "      background-color: #E8F0FE;\n",
              "      border: none;\n",
              "      border-radius: 50%;\n",
              "      cursor: pointer;\n",
              "      display: none;\n",
              "      fill: #1967D2;\n",
              "      height: 32px;\n",
              "      padding: 0 0 0 0;\n",
              "      width: 32px;\n",
              "    }\n",
              "\n",
              "    .colab-df-convert:hover {\n",
              "      background-color: #E2EBFA;\n",
              "      box-shadow: 0px 1px 2px rgba(60, 64, 67, 0.3), 0px 1px 3px 1px rgba(60, 64, 67, 0.15);\n",
              "      fill: #174EA6;\n",
              "    }\n",
              "\n",
              "    [theme=dark] .colab-df-convert {\n",
              "      background-color: #3B4455;\n",
              "      fill: #D2E3FC;\n",
              "    }\n",
              "\n",
              "    [theme=dark] .colab-df-convert:hover {\n",
              "      background-color: #434B5C;\n",
              "      box-shadow: 0px 1px 3px 1px rgba(0, 0, 0, 0.15);\n",
              "      filter: drop-shadow(0px 1px 2px rgba(0, 0, 0, 0.3));\n",
              "      fill: #FFFFFF;\n",
              "    }\n",
              "  </style>\n",
              "\n",
              "      <script>\n",
              "        const buttonEl =\n",
              "          document.querySelector('#df-938207fe-9ad9-4ef8-aa31-446e20195595 button.colab-df-convert');\n",
              "        buttonEl.style.display =\n",
              "          google.colab.kernel.accessAllowed ? 'block' : 'none';\n",
              "\n",
              "        async function convertToInteractive(key) {\n",
              "          const element = document.querySelector('#df-938207fe-9ad9-4ef8-aa31-446e20195595');\n",
              "          const dataTable =\n",
              "            await google.colab.kernel.invokeFunction('convertToInteractive',\n",
              "                                                     [key], {});\n",
              "          if (!dataTable) return;\n",
              "\n",
              "          const docLinkHtml = 'Like what you see? Visit the ' +\n",
              "            '<a target=\"_blank\" href=https://colab.research.google.com/notebooks/data_table.ipynb>data table notebook</a>'\n",
              "            + ' to learn more about interactive tables.';\n",
              "          element.innerHTML = '';\n",
              "          dataTable['output_type'] = 'display_data';\n",
              "          await google.colab.output.renderOutput(dataTable, element);\n",
              "          const docLink = document.createElement('div');\n",
              "          docLink.innerHTML = docLinkHtml;\n",
              "          element.appendChild(docLink);\n",
              "        }\n",
              "      </script>\n",
              "    </div>\n",
              "  </div>\n",
              "  "
            ]
          },
          "metadata": {},
          "execution_count": 10
        }
      ],
      "source": [
        "# First we standardize all features to adjust distance between points\n",
        "from sklearn.preprocessing import StandardScaler\n",
        "\n",
        "scaler = StandardScaler()\n",
        "scaler.fit(x)\n",
        "scaled_data = scaler.transform(x)\n",
        "\n",
        "scaled_DF = pd.DataFrame(scaled_data, columns = x.columns)\n",
        "\n",
        "# Doing a dataset split\n",
        "x_train2, x_test2, y_train, y_test = train_test_split(scaled_DF, \n",
        "                        y, test_size = 0.3, random_state = 100)    # Creating training and testing features from scaled dataset\n",
        "\n",
        "scaled_DF.head(2).iloc[:,0:10]    # Checking a few datapoints to verify scaling"
      ]
    },
    {
      "cell_type": "code",
      "execution_count": null,
      "metadata": {
        "id": "yKoOFAwgv55L"
      },
      "outputs": [],
      "source": [
        "# Training\n",
        "from sklearn.neighbors import KNeighborsClassifier as knn\n",
        "model_name2 = 'KNN'\n",
        "model_2 = knn(n_neighbors = 1) \n",
        "\n",
        "metrics2 =  train_test_model(model_2, x_train2, x_test2)    # running the train_test_function"
      ]
    },
    {
      "cell_type": "code",
      "execution_count": null,
      "metadata": {
        "id": "1lwlCmjD4NoZ",
        "colab": {
          "base_uri": "https://localhost:8080/"
        },
        "outputId": "e59b7c54-f3f6-4ad0-a084-cecf5d2f8c4f"
      },
      "outputs": [
        {
          "output_type": "stream",
          "name": "stdout",
          "text": [
            "\t Training and Predictions Complete (KNN)\n",
            "------------------------------------------------------------\n",
            "\n",
            "Training session       : 0.10 seconds\n",
            "Prediction session     : 5280.08 seconds\n",
            "\n",
            "\n",
            "\t\t\tMetrics\n",
            "--------------------------------------------------------\n",
            "\n",
            "(TP): 371958 \t(FP): 27839 \t(TN): 32313 \t(FN): 1877\n",
            "\n",
            "Accuracy(%)           : 93.2\n",
            "Sensitivity/Recall(%) : 99.5\n",
            "Specificity(%)        : 53.7\n",
            "Balanced Accuracy     : 0.77\n",
            "Precision(%)          : 93.0\n",
            "F1-Score              : 0.96\n"
          ]
        }
      ],
      "source": [
        "summary(model_name2, y_test, **metrics2)"
      ]
    },
    {
      "cell_type": "markdown",
      "metadata": {
        "id": "fTcDCaI0vx8-"
      },
      "source": [
        "---\n",
        "> ### Naive Bayes"
      ]
    },
    {
      "cell_type": "code",
      "execution_count": null,
      "metadata": {
        "id": "pGp2BxSwwAtV"
      },
      "outputs": [],
      "source": [
        "from sklearn.naive_bayes import GaussianNB as GNB\n",
        "\n",
        "# Instantiating the model\n",
        "model_name3 = 'Naive Bayes'\n",
        "model_3 = GNB()    # Gaussian Naive Bayes model\n",
        "\n",
        "metrics3 = train_test_model(model_3, x_train2, x_test2)    # running the train_test_function"
      ]
    },
    {
      "cell_type": "code",
      "execution_count": null,
      "metadata": {
        "colab": {
          "base_uri": "https://localhost:8080/"
        },
        "id": "xqw0A3xQACvM",
        "outputId": "7d470efe-0cea-4e32-cfee-400ce9d3e531"
      },
      "outputs": [
        {
          "name": "stdout",
          "output_type": "stream",
          "text": [
            "\t Training and Predictions Complete (Naive Bayes)\n",
            "------------------------------------------------------------\n",
            "\n",
            "Training session       : 0.57 seconds\n",
            "Prediction session     : 0.20 seconds\n",
            "\n",
            "\n",
            "\t\t\tMetrics\n",
            "--------------------------------------------------------\n",
            "\n",
            "(TP): 371444 \t(FP): 41397 \t(TN): 18755 \t(FN): 2391\n",
            "\n",
            "Accuracy(%)           : 89.9\n",
            "Sensitivity/Recall(%) : 99.4\n",
            "Specificity(%)        : 31.2\n",
            "Balanced Accuracy     : 0.65\n",
            "Precision(%)          : 90.0\n",
            "F1-Score              : 0.94\n"
          ]
        }
      ],
      "source": [
        "summary(model_name3, y_test, **metrics3)"
      ]
    },
    {
      "cell_type": "markdown",
      "metadata": {
        "id": "zMLyhFUywBl9"
      },
      "source": [
        "---\n",
        "\n",
        "> ### Proposed Models"
      ]
    },
    {
      "cell_type": "markdown",
      "metadata": {
        "id": "o0Xm_2CNwDIJ"
      },
      "source": [
        " - #### Decision Trees"
      ]
    },
    {
      "cell_type": "code",
      "execution_count": null,
      "metadata": {
        "id": "3MCsQS-cwbh8"
      },
      "outputs": [],
      "source": [
        "from sklearn.tree import DecisionTreeClassifier as DTC\n",
        "\n",
        "# Creating the Decision Trees Classifier\n",
        "model_name4 = 'Decision Trees'\n",
        "model_4 = DTC()\n",
        "\n",
        "metrics4 = train_test_model(model_4)    # Running the training, testing, and scoring helper function"
      ]
    },
    {
      "cell_type": "code",
      "execution_count": null,
      "metadata": {
        "colab": {
          "base_uri": "https://localhost:8080/"
        },
        "id": "0iti8R06_--P",
        "outputId": "2e6efd30-f4b5-43ab-ad51-5b832195f728"
      },
      "outputs": [
        {
          "name": "stdout",
          "output_type": "stream",
          "text": [
            "\t Training and Predictions Complete (Decision Trees)\n",
            "------------------------------------------------------------\n",
            "\n",
            "Training session       : 7.15 seconds\n",
            "Prediction session     : 0.19 seconds\n",
            "\n",
            "\n",
            "\t\t\tMetrics\n",
            "--------------------------------------------------------\n",
            "\n",
            "(TP): 368616 \t(FP): 59326 \t(TN): 826 \t(FN): 5219\n",
            "\n",
            "Accuracy(%)           : 85.1\n",
            "Sensitivity/Recall(%) : 98.6\n",
            "Specificity(%)        : 1.4\n",
            "Balanced Accuracy     : 0.50\n",
            "Precision(%)          : 86.1\n",
            "F1-Score              : 0.92\n"
          ]
        }
      ],
      "source": [
        "summary(model_name4, y_test, **metrics4)"
      ]
    },
    {
      "cell_type": "markdown",
      "metadata": {
        "id": "Zk6nnCUXZsxi"
      },
      "source": [
        "---\n",
        "- #### Random Forest"
      ]
    },
    {
      "cell_type": "code",
      "execution_count": null,
      "metadata": {
        "colab": {
          "background_save": true,
          "base_uri": "https://localhost:8080/"
        },
        "id": "RwvLXjl3ZtjA",
        "outputId": "a094b94e-fd47-47f1-a9d2-7f0437992a10"
      },
      "outputs": [
        {
          "name": "stdout",
          "output_type": "stream",
          "text": [
            "Fitting 2 folds for each of 4 candidates, totalling 8 fits\n",
            "[CV 1/2] END ....................n_estimators=2;, score=0.848 total time=   1.9s\n",
            "[CV 2/2] END ....................n_estimators=2;, score=0.848 total time=   2.1s\n",
            "[CV 1/2] END ....................n_estimators=5;, score=0.853 total time=   4.2s\n",
            "[CV 2/2] END ....................n_estimators=5;, score=0.853 total time=   5.0s\n",
            "[CV 1/2] END ...................n_estimators=10;, score=0.853 total time=   8.4s\n",
            "[CV 2/2] END ...................n_estimators=10;, score=0.853 total time=   9.0s\n",
            "[CV 1/2] END ...................n_estimators=50;, score=0.854 total time=  44.4s\n",
            "[CV 2/2] END ...................n_estimators=50;, score=0.854 total time=  46.0s\n"
          ]
        },
        {
          "data": {
            "text/plain": [
              "GridSearchCV(cv=2, estimator=RandomForestClassifier(),\n",
              "             param_grid={'n_estimators': [2, 5, 10, 50]}, verbose=3)"
            ]
          },
          "execution_count": null,
          "metadata": {},
          "output_type": "execute_result"
        }
      ],
      "source": [
        "from sklearn.ensemble import RandomForestClassifier as RFC\n",
        "\n",
        "# Creating the RandomForest Classifier with 'n' estimators. \n",
        "# n is the number of devices or system in the adopted IoRT network, each running a Decision Tree estimator for voting\n",
        "no_of_devices = [2, 5, 10, 50]\n",
        "\n",
        "# Using the grid search function to decide on the best number of estimators from sample\n",
        "parameters = {'n_estimators': no_of_devices}\n",
        "\n",
        "grid = GridSearchCV(RFC(), parameters, cv = 2, verbose = 3)\n",
        "grid.fit(x_train, y_train)"
      ]
    },
    {
      "cell_type": "code",
      "execution_count": null,
      "metadata": {
        "id": "Ez1laJIco9lY"
      },
      "outputs": [],
      "source": [
        "# Running \n",
        "model_name5 = 'Random Forest'\n",
        "model_5 = RFC(n_estimators = 50)\n",
        "\n",
        "metrics5 = train_test_model(model_5)    # Running the training, testing, and scoring helper function"
      ]
    },
    {
      "cell_type": "code",
      "execution_count": null,
      "metadata": {
        "colab": {
          "base_uri": "https://localhost:8080/"
        },
        "id": "V7kAO6MzDSiu",
        "outputId": "35ffaa8c-cf5d-4aed-a803-752c02cb1ff9"
      },
      "outputs": [
        {
          "name": "stdout",
          "output_type": "stream",
          "text": [
            "\t Training and Predictions Complete (Random Forest)\n",
            "------------------------------------------------------------\n",
            "\n",
            "Training session       : 122.14 seconds\n",
            "Prediction session     : 5.82 seconds\n",
            "\n",
            "\n",
            "\t\t\tMetrics\n",
            "--------------------------------------------------------\n",
            "\n",
            "(TP): 370635 \t(FP): 59648 \t(TN): 504 \t(FN): 3200\n",
            "\n",
            "Accuracy(%)           : 85.5\n",
            "Sensitivity/Recall(%) : 99.1\n",
            "Specificity(%)        : 0.8\n",
            "Balanced Accuracy     : 0.50\n",
            "Precision(%)          : 86.1\n",
            "F1-Score              : 0.92\n"
          ]
        }
      ],
      "source": [
        "summary(model_name5, y_test, **metrics5)"
      ]
    },
    {
      "cell_type": "markdown",
      "metadata": {
        "id": "svFTaX09wb77"
      },
      "source": [
        "---\n",
        "- #### Deep Learning Network (ANN)"
      ]
    },
    {
      "cell_type": "code",
      "execution_count": null,
      "metadata": {
        "colab": {
          "background_save": true
        },
        "id": "l0JNfXinwiYO"
      },
      "outputs": [],
      "source": [
        "from sklearn.neural_network import MLPClassifier\n",
        "\n",
        "# Creating the MLP Classifier\n",
        "model6_name = 'Deep-MLP'\n",
        "\n",
        "model6 = MLPClassifier(activation = 'logistic', max_iter = 1000, alpha = 0.01, random_state = 20, shuffle = True)\n",
        "\n",
        "metrics_6 = train_test_model(model6)    # Running the training, testing, and scoring helper function"
      ]
    },
    {
      "cell_type": "code",
      "execution_count": null,
      "metadata": {
        "id": "wq26tNGIwijR",
        "colab": {
          "base_uri": "https://localhost:8080/"
        },
        "outputId": "e40bd4de-b9f7-43e0-c821-82793b98f335"
      },
      "outputs": [
        {
          "output_type": "stream",
          "name": "stdout",
          "text": [
            "\t Training and Predictions Complete (Deep-MLP)\n",
            "------------------------------------------------------------\n",
            "\n",
            "Training session       : 870.31 seconds\n",
            "Prediction session     : 1.20 seconds\n",
            "\n",
            "\n",
            "\t\t\tMetrics\n",
            "--------------------------------------------------------\n",
            "\n",
            "(TP): 371810 \t(FP): 26529 \t(TN): 33623 \t(FN): 2025\n",
            "\n",
            "Accuracy(%)           : 93.4\n",
            "Sensitivity/Recall(%) : 99.5\n",
            "Specificity(%)        : 55.9\n",
            "Balanced Accuracy     : 0.78\n",
            "Precision(%)          : 93.3\n",
            "F1-Score              : 0.96\n"
          ]
        }
      ],
      "source": [
        "summary(model6_name, y_test, **metrics_6)"
      ]
    },
    {
      "cell_type": "code",
      "source": [
        ""
      ],
      "metadata": {
        "id": "DZdzwnZhlboD"
      },
      "execution_count": null,
      "outputs": []
    },
    {
      "cell_type": "code",
      "source": [
        "# Bagging Classifier - Decision Trees ensemble\n",
        "from sklearn.ensemble import BaggingClassifier\n",
        "from sklearn.tree import DecisionTreeClassifier as DTC\n",
        "\n",
        "# Creating the Decision Trees Classifier\n",
        "dt_model = DTC(max_depth = 20)\n",
        "bag_model = BaggingClassifier(dt_model, max_samples = 0.8)\n",
        "\n",
        "# running a grid search CV to check importance of increasing devices\n",
        "no_of_devices = [2, 5, 10, 15]\n",
        "\n",
        "parameters = {'n_estimators': no_of_devices}\n",
        "\n",
        "grid = GridSearchCV(bag_model, parameters, cv = 2, verbose = 3)\n",
        "grid.fit(x_train, y_train)"
      ],
      "metadata": {
        "colab": {
          "base_uri": "https://localhost:8080/"
        },
        "id": "Jm3xKs5DlcKY",
        "outputId": "17ac15a3-00b4-4ccf-838d-0945e4a0d62f"
      },
      "execution_count": null,
      "outputs": [
        {
          "output_type": "stream",
          "name": "stdout",
          "text": [
            "Fitting 2 folds for each of 4 candidates, totalling 8 fits\n",
            "[CV 1/2] END ....................n_estimators=2;, score=0.935 total time=   2.4s\n",
            "[CV 2/2] END ....................n_estimators=2;, score=0.935 total time=   1.6s\n",
            "[CV 1/2] END ....................n_estimators=5;, score=0.936 total time=   3.6s\n",
            "[CV 2/2] END ....................n_estimators=5;, score=0.935 total time=   3.6s\n",
            "[CV 1/2] END ...................n_estimators=10;, score=0.936 total time=   6.9s\n",
            "[CV 2/2] END ...................n_estimators=10;, score=0.936 total time=   6.9s\n",
            "[CV 1/2] END ...................n_estimators=15;, score=0.936 total time=  10.0s\n",
            "[CV 2/2] END ...................n_estimators=15;, score=0.936 total time=  10.3s\n"
          ]
        },
        {
          "output_type": "execute_result",
          "data": {
            "text/plain": [
              "GridSearchCV(cv=2,\n",
              "             estimator=BaggingClassifier(base_estimator=DecisionTreeClassifier(max_depth=20),\n",
              "                                         max_samples=0.8),\n",
              "             param_grid={'n_estimators': [2, 5, 10, 15]}, verbose=3)"
            ]
          },
          "metadata": {},
          "execution_count": 18
        }
      ]
    },
    {
      "cell_type": "code",
      "source": [
        "model7_name = 'Bagging D-Trees'\n",
        "model_7 = BaggingClassifier(dt_model, n_estimators = 10, max_samples = 0.8)\n",
        "\n",
        "metrics_7 = train_test_model(model_7)    # Running the training, testing, and scoring helper function"
      ],
      "metadata": {
        "id": "GmUZdZ1AuT0j"
      },
      "execution_count": null,
      "outputs": []
    },
    {
      "cell_type": "code",
      "source": [
        "summary(model7_name, y_test, **metrics_7)"
      ],
      "metadata": {
        "colab": {
          "base_uri": "https://localhost:8080/"
        },
        "id": "7tiZs_Kf1G50",
        "outputId": "222794d5-6029-4a3f-b696-adafe4106c63"
      },
      "execution_count": null,
      "outputs": [
        {
          "output_type": "stream",
          "name": "stdout",
          "text": [
            "\t Training and Predictions Complete (Bagging D-Trees)\n",
            "------------------------------------------------------------\n",
            "\n",
            "Training session       : 15.64 seconds\n",
            "Prediction session     : 1.11 seconds\n",
            "\n",
            "\n",
            "\t\t\tMetrics\n",
            "--------------------------------------------------------\n",
            "\n",
            "(TP): 372258 \t(FP): 26548 \t(TN): 33604 \t(FN): 1577\n",
            "\n",
            "Accuracy(%)           : 93.5\n",
            "Sensitivity/Recall(%) : 99.6\n",
            "Specificity(%)        : 55.9\n",
            "Balanced Accuracy     : 0.78\n",
            "Precision(%)          : 93.3\n",
            "F1-Score              : 0.96\n"
          ]
        }
      ]
    }
  ],
  "metadata": {
    "colab": {
      "collapsed_sections": [],
      "name": "Machine Learning Models.ipynb",
      "provenance": [],
      "mount_file_id": "1k89ocbZaqRUQqJcaMBqNQrM9vQtuYuzl",
      "authorship_tag": "ABX9TyPASX5/ftVRO7xBr7IMSV3B",
      "include_colab_link": true
    },
    "kernelspec": {
      "display_name": "Python 3",
      "name": "python3"
    },
    "language_info": {
      "name": "python"
    }
  },
  "nbformat": 4,
  "nbformat_minor": 0
}